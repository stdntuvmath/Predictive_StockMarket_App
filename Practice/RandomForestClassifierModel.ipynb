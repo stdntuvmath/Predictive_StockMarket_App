{
 "cells": [
  {
   "cell_type": "code",
   "execution_count": null,
   "metadata": {},
   "outputs": [],
   "source": [
    "import yfinance as yf\n",
    "\n",
    "msft = yf.Ticker(\"MSFT\")\n",
    "msft_history = msft.history(period=\"max\")"
   ]
  },
  {
   "cell_type": "code",
   "execution_count": 9,
   "metadata": {},
   "outputs": [
    {
     "name": "stdout",
     "output_type": "stream",
     "text": [
      "                Open      High       Low     Close      Volume  Dividends  \\\n",
      "Date                                                                        \n",
      "1986-03-13  0.055654  0.063838  0.055654  0.061109  1031788800        0.0   \n",
      "1986-03-14  0.061109  0.064384  0.061109  0.063292   308160000        0.0   \n",
      "1986-03-17  0.063292  0.064929  0.063292  0.064384   133171200        0.0   \n",
      "1986-03-18  0.064384  0.064929  0.062201  0.062746    67766400        0.0   \n",
      "1986-03-19  0.062746  0.063292  0.061109  0.061655    47894400        0.0   \n",
      "\n",
      "            Stock Splits  \n",
      "Date                      \n",
      "1986-03-13           0.0  \n",
      "1986-03-14           0.0  \n",
      "1986-03-17           0.0  \n",
      "1986-03-18           0.0  \n",
      "1986-03-19           0.0  \n"
     ]
    }
   ],
   "source": [
    "print(msft_history.head())"
   ]
  }
 ],
 "metadata": {
  "kernelspec": {
   "display_name": "Python 3.10.0 64-bit",
   "language": "python",
   "name": "python3"
  },
  "language_info": {
   "codemirror_mode": {
    "name": "ipython",
    "version": 3
   },
   "file_extension": ".py",
   "mimetype": "text/x-python",
   "name": "python",
   "nbconvert_exporter": "python",
   "pygments_lexer": "ipython3",
   "version": "3.10.0"
  },
  "orig_nbformat": 4,
  "vscode": {
   "interpreter": {
    "hash": "c344a84edcacd519b11d848f40baca66f020ec491aa3bdd6db685c394e152753"
   }
  }
 },
 "nbformat": 4,
 "nbformat_minor": 2
}
